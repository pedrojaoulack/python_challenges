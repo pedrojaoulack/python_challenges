{
 "cells": [
  {
   "attachments": {},
   "cell_type": "markdown",
   "metadata": {},
   "source": [
    "## Verificar se um número é primo e possíveis otimizações."
   ]
  },
  {
   "cell_type": "code",
   "execution_count": 1,
   "metadata": {},
   "outputs": [],
   "source": [
    "#Bibliotecas Necessárias:\n",
    "import time\n",
    "import math"
   ]
  },
  {
   "cell_type": "code",
   "execution_count": 2,
   "metadata": {},
   "outputs": [],
   "source": [
    "#decorator para calcular o tempo de uma função:\n",
    "def tempo(func):\n",
    "    def wrapper(*args,**kwargs):\n",
    "        comeco = time.time()\n",
    "        resultado = func(*args,**kwargs)\n",
    "        fim = time.time()\n",
    "        print(f\"{func.__name__} demorou {fim-comeco:.6f} segundos para rodar.\")\n",
    "        return resultado\n",
    "    return wrapper"
   ]
  },
  {
   "cell_type": "code",
   "execution_count": 3,
   "metadata": {},
   "outputs": [],
   "source": [
    "numero = 9_909_833"
   ]
  },
  {
   "cell_type": "code",
   "execution_count": 4,
   "metadata": {},
   "outputs": [],
   "source": [
    "#método por força bruta:\n",
    "@tempo\n",
    "def e_primo (numero):\n",
    "    contador=0\n",
    "    for x in range(2,numero):\n",
    "        contador+=1\n",
    "        if ( numero % x == 0):\n",
    "            return False,contador\n",
    "    return True,contador"
   ]
  },
  {
   "cell_type": "code",
   "execution_count": 5,
   "metadata": {},
   "outputs": [
    {
     "name": "stdout",
     "output_type": "stream",
     "text": [
      "e_primo demorou 0.841783 segundos para rodar.\n"
     ]
    },
    {
     "data": {
      "text/plain": [
       "(True, 9909831)"
      ]
     },
     "execution_count": 5,
     "metadata": {},
     "output_type": "execute_result"
    }
   ],
   "source": [
    "e_primo(numero=numero)"
   ]
  },
  {
   "cell_type": "code",
   "execution_count": 6,
   "metadata": {},
   "outputs": [],
   "source": [
    "#levemente otimizado pois não faz sentido testar um número maior que a sua raiz.\n",
    "@tempo\n",
    "def e_primo_raiz(numero):\n",
    "    contador=0\n",
    "    raiz= round( math.sqrt(numero) ) + 1 #--> colocando a raiz mais 1 caso tenha uma raiz quadrada o for não iria pegar\n",
    "    for x in range (2,raiz):\n",
    "        contador+=1\n",
    "        if (numero % x == 0):\n",
    "            return False,contador\n",
    "    return True,contador\n"
   ]
  },
  {
   "cell_type": "code",
   "execution_count": 7,
   "metadata": {},
   "outputs": [
    {
     "name": "stdout",
     "output_type": "stream",
     "text": [
      "e_primo_raiz demorou 0.000000 segundos para rodar.\n"
     ]
    },
    {
     "data": {
      "text/plain": [
       "(True, 3147)"
      ]
     },
     "execution_count": 7,
     "metadata": {},
     "output_type": "execute_result"
    }
   ],
   "source": [
    "e_primo_raiz(numero=numero)"
   ]
  },
  {
   "cell_type": "code",
   "execution_count": 8,
   "metadata": {},
   "outputs": [],
   "source": [
    "#criando a peneira de eratóstenes para encontrar vários n primos até um certo número, pois é mais eficiente que os outros métodos iterados:\n",
    "@tempo\n",
    "def peneira_eratostenes (numero):\n",
    "    contador=0\n",
    "    lista = list(range(2,numero+1))\n",
    "    for x in lista:\n",
    "        for y in lista:\n",
    "            contador+=1\n",
    "            if (y%x==0) and (y!=x):\n",
    "                lista.remove(y)\n",
    "    return lista,contador"
   ]
  },
  {
   "cell_type": "code",
   "execution_count": 9,
   "metadata": {},
   "outputs": [
    {
     "name": "stdout",
     "output_type": "stream",
     "text": [
      "peneira_eratostenes demorou 0.000000 segundos para rodar.\n"
     ]
    },
    {
     "data": {
      "text/plain": [
       "([2,\n",
       "  3,\n",
       "  5,\n",
       "  7,\n",
       "  11,\n",
       "  13,\n",
       "  17,\n",
       "  19,\n",
       "  23,\n",
       "  29,\n",
       "  31,\n",
       "  37,\n",
       "  41,\n",
       "  43,\n",
       "  47,\n",
       "  53,\n",
       "  59,\n",
       "  61,\n",
       "  67,\n",
       "  71,\n",
       "  73,\n",
       "  79,\n",
       "  83,\n",
       "  89,\n",
       "  97,\n",
       "  101],\n",
       " 713)"
      ]
     },
     "execution_count": 9,
     "metadata": {},
     "output_type": "execute_result"
    }
   ],
   "source": [
    "peneira_eratostenes(numero=101)"
   ]
  },
  {
   "cell_type": "code",
   "execution_count": 10,
   "metadata": {},
   "outputs": [
    {
     "name": "stdout",
     "output_type": "stream",
     "text": [
      "[2, 3, 4, 6, 7, 8, 9, 10, 11, 12, 13, 14, 15, 16]\n"
     ]
    }
   ],
   "source": [
    "teste = list(range(2,17))\n",
    "teste.remove(5)\n",
    "print(teste)"
   ]
  },
  {
   "cell_type": "code",
   "execution_count": null,
   "metadata": {},
   "outputs": [],
   "source": []
  }
 ],
 "metadata": {
  "kernelspec": {
   "display_name": "base",
   "language": "python",
   "name": "python3"
  },
  "language_info": {
   "codemirror_mode": {
    "name": "ipython",
    "version": 3
   },
   "file_extension": ".py",
   "mimetype": "text/x-python",
   "name": "python",
   "nbconvert_exporter": "python",
   "pygments_lexer": "ipython3",
   "version": "3.7.4 (default, Aug  9 2019, 18:34:13) [MSC v.1915 64 bit (AMD64)]"
  },
  "orig_nbformat": 4,
  "vscode": {
   "interpreter": {
    "hash": "ea4e35c47d91764ef4d6644e9c5f3fbb8ee8833ee53d2374686d16cf48aa89e6"
   }
  }
 },
 "nbformat": 4,
 "nbformat_minor": 2
}
