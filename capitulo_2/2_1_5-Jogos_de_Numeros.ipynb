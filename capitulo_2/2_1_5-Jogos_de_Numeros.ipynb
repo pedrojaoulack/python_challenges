{
 "cells": [
  {
   "attachments": {},
   "cell_type": "markdown",
   "metadata": {},
   "source": [
    "# Jogos de Números\n",
    "### números perfeitos:"
   ]
  },
  {
   "cell_type": "code",
   "execution_count": 1,
   "metadata": {},
   "outputs": [],
   "source": [
    "# Número perfeito é quando o seu valoré igual a soma dos seus divisores (excluindo ele mesmo).\n",
    "# exemplo: 6 é divisível por (1, 2 e 3) e (1+2+3=6), logo 6 é um número perfeito."
   ]
  },
  {
   "cell_type": "code",
   "execution_count": 27,
   "metadata": {},
   "outputs": [],
   "source": [
    "def pega_divisores (numero:int):\n",
    "    divisores = list()\n",
    "    for x in range(1,numero):\n",
    "        if (numero%x==0):\n",
    "            divisores.append(x)\n",
    "    return divisores\n",
    "\n",
    "def soma_divisores (lista:list):\n",
    "    soma=0\n",
    "    for x in lista:\n",
    "        soma+=x\n",
    "    return soma\n",
    "\n",
    "def ser_numero_perfeito (numero:int):\n",
    "    lista_divisores = pega_divisores(numero=numero)\n",
    "    soma = soma_divisores(lista_divisores)\n",
    "    if(soma==numero):\n",
    "        return print(f\"É um número perfeito! \\nNúmero={numero} \\nSoma={soma} \\nLista de divisores={lista_divisores}\")\n",
    "    else:\n",
    "        return print(f\"Não é um número perfeito! \\nNúmero={numero} \\nSoma={soma} \\nLista de divisores={lista_divisores}\")"
   ]
  },
  {
   "cell_type": "code",
   "execution_count": 29,
   "metadata": {},
   "outputs": [
    {
     "name": "stdout",
     "output_type": "stream",
     "text": [
      "Não é um número perfeito! \n",
      "Número=200 \n",
      "Soma=265 \n",
      "Lista de divisores=[1, 2, 4, 5, 8, 10, 20, 25, 40, 50, 100]\n"
     ]
    }
   ],
   "source": [
    "ser_numero_perfeito(200)\n"
   ]
  },
  {
   "attachments": {},
   "cell_type": "markdown",
   "metadata": {},
   "source": [
    "### números de armstrong:"
   ]
  },
  {
   "cell_type": "code",
   "execution_count": null,
   "metadata": {},
   "outputs": [],
   "source": [
    "#Números de armstrong são números cujos digitos elevados a potência da quantidade de algaristmos são iguais ao número original.\n",
    "#exemplo digitos: 1, 5 e 3 --> 1 *100 + 5*10 + 3*1 = 153\n",
    "#exemplo potência: 1, 5 e 3 --> 1**3 + 5**3 + 3**3 = 1+125+27 = 153\n",
    "# quando os digitos forem iguais a potência "
   ]
  },
  {
   "cell_type": "code",
   "execution_count": 11,
   "metadata": {},
   "outputs": [],
   "source": [
    "def ser_numero_armstrong(numero:int):\n",
    "    tamanho_num = len(str(numero))\n",
    "    soma=0\n",
    "    for x in str(numero):\n",
    "        soma+=int(x)**tamanho_num\n",
    "    if(soma==numero):\n",
    "        return print(f\"É um número de Armstrong! \\nNúmero={numero} \\nSoma={soma}\")\n",
    "    else:\n",
    "        return print(f\"Não é um número de Armstrong! \\nNúmero={numero} \\nSoma={soma}\")"
   ]
  },
  {
   "cell_type": "code",
   "execution_count": 14,
   "metadata": {},
   "outputs": [
    {
     "name": "stdout",
     "output_type": "stream",
     "text": [
      "É um número de Armstrong! \n",
      "Número=153 \n",
      "Soma=153\n"
     ]
    }
   ],
   "source": [
    "ser_numero_armstrong(153)"
   ]
  },
  {
   "attachments": {},
   "cell_type": "markdown",
   "metadata": {},
   "source": [
    "### números de checksum simples:"
   ]
  },
  {
   "cell_type": "code",
   "execution_count": 15,
   "metadata": {},
   "outputs": [],
   "source": [
    "#checksum é um código ou regra criada para validar números com uma certa facilidade.\n",
    "#um exemplo de checksum é calcular um número de 4 dígitos (a,b,c,d) onde o calculo\n",
    "#é feito (a*1+b*2+c*3+d*4)%10"
   ]
  },
  {
   "cell_type": "code",
   "execution_count": 17,
   "metadata": {},
   "outputs": [],
   "source": [
    "def checksum (numero:int):\n",
    "    multiplicadores_checksum = [1,2,3,4]\n",
    "    if(len(str(numero))!=len(multiplicadores_checksum)):\n",
    "        return print(f\"Erro: o tamanho do número deve ser igual ao do checksum ({len(multiplicadores_checksum)})\")\n",
    "\n",
    "    \n",
    "    \n",
    "    soma_multiplicadores_checksum=0\n",
    "    for x in multiplicadores_checksum:\n",
    "        soma_multiplicadores_checksum += x\n",
    "\n",
    "    valor=0\n",
    "    contador = 0\n",
    "    str_numero = str(numero)\n",
    "    for x in str_numero:\n",
    "        valor += int(x)*multiplicadores_checksum[contador]\n",
    "        contador+=1\n",
    "\n",
    "    valor_checksum=valor%soma_multiplicadores_checksum\n",
    "    \n",
    "    return print(f\"input={numero} \\nvalor={valor} \\nchecksum={valor_checksum}\")"
   ]
  },
  {
   "cell_type": "code",
   "execution_count": 21,
   "metadata": {},
   "outputs": [
    {
     "name": "stdout",
     "output_type": "stream",
     "text": [
      "input=8105 \n",
      "valor=30 \n",
      "checksum=0\n"
     ]
    }
   ],
   "source": [
    "checksum(8105)"
   ]
  }
 ],
 "metadata": {
  "kernelspec": {
   "display_name": "base",
   "language": "python",
   "name": "python3"
  },
  "language_info": {
   "codemirror_mode": {
    "name": "ipython",
    "version": 3
   },
   "file_extension": ".py",
   "mimetype": "text/x-python",
   "name": "python",
   "nbconvert_exporter": "python",
   "pygments_lexer": "ipython3",
   "version": "3.7.4 (default, Aug  9 2019, 18:34:13) [MSC v.1915 64 bit (AMD64)]"
  },
  "orig_nbformat": 4,
  "vscode": {
   "interpreter": {
    "hash": "ea4e35c47d91764ef4d6644e9c5f3fbb8ee8833ee53d2374686d16cf48aa89e6"
   }
  }
 },
 "nbformat": 4,
 "nbformat_minor": 2
}
