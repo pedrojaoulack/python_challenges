{
 "cells": [
  {
   "attachments": {},
   "cell_type": "markdown",
   "metadata": {},
   "source": [
    "# Trabalhando com números romanos."
   ]
  },
  {
   "cell_type": "code",
   "execution_count": 27,
   "metadata": {},
   "outputs": [],
   "source": [
    "#algarismos romanos:\n",
    "# I = 1\n",
    "# V = 5\n",
    "# X = 10\n",
    "# L = 50\n",
    "# C = 100\n",
    "# D = 500\n",
    "# M = 1000"
   ]
  },
  {
   "cell_type": "code",
   "execution_count": 65,
   "metadata": {},
   "outputs": [],
   "source": [
    "#criando função que converte números decimais em romanos:\n",
    "def numero_padrao (valor,menor,medio,maior):\n",
    "    \"\"\"\n",
    "    Descrição: Pega uma casa decimal (dezena,centena, etc.) e converte em uma string baseada nos parâmetros iniciais dados.\n",
    "    \n",
    "    Exemplo: 20 está nas dezenas então deverá ser passado como valor 2\n",
    "    e seu algarismo romano menor é X=10, médio é L=50 e maior é C=100\n",
    "    \"\"\"\n",
    "    if(valor<=3):\n",
    "        return (valor*menor)\n",
    "    elif(valor>3 and valor <5):\n",
    "        return (menor+medio)\n",
    "    elif(valor==5):\n",
    "        return (medio)\n",
    "    elif(valor>5 and valor<9):\n",
    "        return (medio+(menor*(valor-5)))\n",
    "    elif(valor==9):\n",
    "        return (menor+maior)\n",
    "    elif(valor==10):\n",
    "        return (maior)\n",
    "\n",
    "\n",
    "def decimal_para_romano(numero):\n",
    "    \"\"\"\n",
    "    Descrição converte um número decimal em número romano.\n",
    "\n",
    "    Exemplo: informar um número como 26 e a função irá retornar XXVI .\n",
    "    \"\"\"\n",
    "    letras=list()\n",
    "    numero_restante = numero\n",
    "\n",
    "    if(numero>3999):\n",
    "        return 'esse número não existe em algarismos romanos (número máximo é de 3999)'\n",
    "    if(numero>=1000):\n",
    "        qtd_Milhar = numero//1000\n",
    "        letras.append(qtd_Milhar*'M')\n",
    "        numero_restante = numero_restante - (qtd_Milhar*(1000))\n",
    "    if(numero_restante>=100):\n",
    "        qtd_Centena = numero_restante//100\n",
    "        letras.append(numero_padrao(valor=qtd_Centena, menor='C', medio='D', maior='M'))\n",
    "        numero_restante = numero_restante - qtd_Centena*100\n",
    "    if(numero_restante>=10):\n",
    "        qtd_Dezena = numero_restante//10\n",
    "        letras.append(numero_padrao(valor=qtd_Dezena, menor='X', medio='L', maior='C'))\n",
    "        numero_restante = numero_restante - qtd_Dezena*10\n",
    "    if(numero_restante<10):\n",
    "        qtd_unitaria = numero_restante//1\n",
    "        letras.append(numero_padrao(valor=qtd_unitaria, menor='I', medio='V', maior='X'))\n",
    "        numero_restante = numero_restante - qtd_unitaria*1\n",
    "\n",
    "    numero_romano=''.join(letras)\n",
    "\n",
    "    return numero_romano,numero_restante"
   ]
  },
  {
   "cell_type": "code",
   "execution_count": 66,
   "metadata": {},
   "outputs": [
    {
     "data": {
      "text/plain": [
       "('MMDXII', 0)"
      ]
     },
     "execution_count": 66,
     "metadata": {},
     "output_type": "execute_result"
    }
   ],
   "source": [
    "decimal_para_romano(2512)"
   ]
  }
 ],
 "metadata": {
  "kernelspec": {
   "display_name": "base",
   "language": "python",
   "name": "python3"
  },
  "language_info": {
   "codemirror_mode": {
    "name": "ipython",
    "version": 3
   },
   "file_extension": ".py",
   "mimetype": "text/x-python",
   "name": "python",
   "nbconvert_exporter": "python",
   "pygments_lexer": "ipython3",
   "version": "3.7.4"
  },
  "orig_nbformat": 4,
  "vscode": {
   "interpreter": {
    "hash": "ea4e35c47d91764ef4d6644e9c5f3fbb8ee8833ee53d2374686d16cf48aa89e6"
   }
  }
 },
 "nbformat": 4,
 "nbformat_minor": 2
}
